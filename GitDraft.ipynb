{
  "cells": [
    {
      "cell_type": "markdown",
      "metadata": {
        "id": "view-in-github",
        "colab_type": "text"
      },
      "source": [
        "<a href=\"https://colab.research.google.com/github/jeffeuxMartin/MyneApprentice/blob/main/GitDraft.ipynb\" target=\"_parent\"><img src=\"https://colab.research.google.com/assets/colab-badge.svg\" alt=\"Open In Colab\"/></a>"
      ]
    },
    {
      "cell_type": "code",
      "execution_count": null,
      "id": "cb93ebf9",
      "metadata": {
        "id": "cb93ebf9"
      },
      "outputs": [],
      "source": [
        ""
      ]
    },
    {
      "cell_type": "markdown",
      "source": [
        "# Pre\n"
      ],
      "metadata": {
        "id": "ClF18lLkVUly"
      },
      "id": "ClF18lLkVUly"
    },
    {
      "cell_type": "markdown",
      "source": [
        "## Connection\n",
        "\n",
        "```sh\n",
        "ssh -fNR 9696:140.112.21.14:9696 jeffeux@140.112.21.14\n",
        "```\n",
        "\n",
        "Real: [`http://140.112.21.14:9696/lab?token=r09942097`](http://140.112.21.14:9696/lab?token=r09942097) <br />\n",
        "URL: [`http://localhost:9696/lab?token=r09942097`](http://localhost:9696/lab?token=r09942097)"
      ],
      "metadata": {
        "id": "7H5M-ZOHWq3a"
      },
      "id": "7H5M-ZOHWq3a"
    },
    {
      "cell_type": "code",
      "source": [
        "%%bash\n",
        "source ~/.shell_sources\n",
        "n"
      ],
      "metadata": {
        "colab": {
          "base_uri": "https://localhost:8080/"
        },
        "id": "CBbzGAAHWVL5",
        "outputId": "dda681ad-7d3d-462b-c902-7ba83f1a727a"
      },
      "execution_count": null,
      "outputs": [
        {
          "output_type": "stream",
          "name": "stdout",
          "text": [
            "Sat Apr 16 01:51:55 2022       \n",
            "+-----------------------------------------------------------------------------+\n",
            "| NVIDIA-SMI 465.19.01    Driver Version: 465.19.01    CUDA Version: 11.3     |\n",
            "|-------------------------------+----------------------+----------------------+\n",
            "| GPU  Name        Persistence-M| Bus-Id        Disp.A | Volatile Uncorr. ECC |\n",
            "| Fan  Temp  Perf  Pwr:Usage/Cap|         Memory-Usage | GPU-Util  Compute M. |\n",
            "|                               |                      |               MIG M. |\n",
            "|===============================+======================+======================|\n",
            "|   0  NVIDIA GeForce ...  Off  | 00000000:01:00.0 Off |                  N/A |\n",
            "|  0%   35C    P8    11W / 320W |     44MiB / 11177MiB |      0%      Default |\n",
            "|                               |                      |                  N/A |\n",
            "+-------------------------------+----------------------+----------------------+\n",
            "                                                                               \n",
            "+-----------------------------------------------------------------------------+\n",
            "| Processes:                                                                  |\n",
            "|  GPU   GI   CI        PID   Type   Process name                  GPU Memory |\n",
            "|        ID   ID                                                   Usage      |\n",
            "|=============================================================================|\n",
            "|    0   N/A  N/A     10689      G   /usr/lib/xorg/Xorg                 39MiB |\n",
            "+-----------------------------------------------------------------------------+\n",
            "  PID TTY      STAT   TIME COMMAND\n",
            "10689 tty7     Ssl+   0:22 /usr/lib/xorg/Xorg -core :0 -seat seat0 -auth /var/run/lightdm/root/:0 -nolisten tcp vt7 -novtswitch\n"
          ]
        }
      ],
      "id": "CBbzGAAHWVL5"
    },
    {
      "cell_type": "markdown",
      "source": [
        "# _"
      ],
      "metadata": {
        "id": "CTtu0HWWV-eq"
      },
      "id": "CTtu0HWWV-eq"
    },
    {
      "cell_type": "code",
      "source": [
        "import torch, torchaudio\n",
        "ls_dataset = torchaudio.datasets.LIBRISPEECH(\n",
        "    root=\"/storage/Corpus/LibriSpeech\",\n",
        "    url=\"train-clean-100\",\n",
        ")"
      ],
      "metadata": {
        "colab": {
          "base_uri": "https://localhost:8080/"
        },
        "id": "bW13Uq7aWV6S",
        "outputId": "38c3e16c-cc73-405a-b1ed-52586ee18c31"
      },
      "execution_count": null,
      "outputs": [
        {
          "output_type": "stream",
          "name": "stderr",
          "text": [
            "################################################################################\n",
            "### WARNING, path does not exist: KALDI_ROOT=/mnt/matylda5/iveselyk/Tools/kaldi-trunk\n",
            "###          (please add 'export KALDI_ROOT=<your_path>' in your $HOME/.profile)\n",
            "###          (or run as: KALDI_ROOT=<your_path> python <your_script>.py)\n",
            "################################################################################\n",
            "\n"
          ]
        }
      ],
      "id": "bW13Uq7aWV6S"
    },
    {
      "cell_type": "code",
      "source": [
        "(ls_dataset)[0]"
      ],
      "metadata": {
        "colab": {
          "base_uri": "https://localhost:8080/"
        },
        "id": "o2mOwbBmW31y",
        "outputId": "5b46c2f0-1640-418e-a472-358090cd592b"
      },
      "execution_count": null,
      "outputs": [
        {
          "output_type": "execute_result",
          "data": {
            "text/plain": [
              "(tensor([[ 7.0190e-04,  7.3242e-04,  7.3242e-04,  ..., -2.7466e-04,\n",
              "          -1.8311e-04, -3.0518e-05]]),\n",
              " 16000,\n",
              " 'CHAPTER SIXTEEN I MIGHT HAVE TOLD YOU OF THE BEGINNING OF THIS LIAISON IN A FEW LINES BUT I WANTED YOU TO SEE EVERY STEP BY WHICH WE CAME I TO AGREE TO WHATEVER MARGUERITE WISHED',\n",
              " 374,\n",
              " 180298,\n",
              " 0)"
            ]
          },
          "metadata": {},
          "execution_count": 16
        }
      ],
      "id": "o2mOwbBmW31y"
    }
  ],
  "metadata": {
    "kernelspec": {
      "display_name": "Python 3 (ipykernel)",
      "language": "python",
      "name": "python3"
    },
    "language_info": {
      "codemirror_mode": {
        "name": "ipython",
        "version": 3
      },
      "file_extension": ".py",
      "mimetype": "text/x-python",
      "name": "python",
      "nbconvert_exporter": "python",
      "pygments_lexer": "ipython3",
      "version": "3.8.13"
    },
    "colab": {
      "name": "GitDraft.ipynb",
      "provenance": [],
      "include_colab_link": true
    }
  },
  "nbformat": 4,
  "nbformat_minor": 5
}